{
 "cells": [
  {
   "cell_type": "code",
   "execution_count": 1,
   "id": "56e88971-9cef-4991-b283-0d43d43768e3",
   "metadata": {},
   "outputs": [
    {
     "name": "stdout",
     "output_type": "stream",
     "text": [
      "C:\\MY FILES\\CFE_VIDEO_MEMBERSHIP_WEB_APP\n"
     ]
    }
   ],
   "source": [
    "%cd .."
   ]
  },
  {
   "cell_type": "code",
   "execution_count": 2,
   "id": "96d57816-0d4a-4635-be1d-7c9fd6c6f65d",
   "metadata": {},
   "outputs": [
    {
     "data": {
      "text/plain": [
       "'C:\\\\MY FILES\\\\CFE_VIDEO_MEMBERSHIP_WEB_APP'"
      ]
     },
     "execution_count": 2,
     "metadata": {},
     "output_type": "execute_result"
    }
   ],
   "source": [
    "%pwd"
   ]
  },
  {
   "cell_type": "code",
   "execution_count": 3,
   "id": "27b7136d-16a4-489b-a057-adbbd2b99975",
   "metadata": {},
   "outputs": [],
   "source": [
    "from app import db\n",
    "from app.videos.models import Video\n",
    "from app.users.models import User\n",
    "from cassandra.cqlengine.management import sync_table"
   ]
  },
  {
   "cell_type": "code",
   "execution_count": 4,
   "id": "e9e71ddc-1a83-488b-8349-f96776a910a7",
   "metadata": {},
   "outputs": [],
   "source": [
    "db.get_session()\n",
    "sync_table(Video)"
   ]
  },
  {
   "cell_type": "code",
   "execution_count": 5,
   "id": "82b94a00-f46e-4bae-ba4c-0df53dfdbad4",
   "metadata": {},
   "outputs": [
    {
     "data": {
      "text/plain": [
       "UUID('48b7c880-8ca2-11f0-9d80-b48c9d37d01e')"
      ]
     },
     "execution_count": 5,
     "metadata": {},
     "output_type": "execute_result"
    }
   ],
   "source": [
    "user_id = User.objects.filter(email=\"md.sadat.amin@gmail.com\").first().user_id\n",
    "user_id"
   ]
  },
  {
   "cell_type": "code",
   "execution_count": 11,
   "id": "42b2451a-7bd7-4fc2-8b0b-35cbbe776bf8",
   "metadata": {},
   "outputs": [],
   "source": [
    "url=\"https://www.youtube.com/watch?v=CnXdddeZ4tQ\""
   ]
  },
  {
   "cell_type": "code",
   "execution_count": 12,
   "id": "0b8ef503-32e1-4cf6-8e78-c5e049a5e48e",
   "metadata": {
    "scrolled": true
   },
   "outputs": [
    {
     "data": {
      "text/plain": [
       "Video(host_id=CnXdddeZ4tQ, user_id=48b7c880-8ca2-11f0-9d80-b48c9d37d01e)"
      ]
     },
     "execution_count": 12,
     "metadata": {},
     "output_type": "execute_result"
    }
   ],
   "source": [
    "video_obj = Video.add_video(url=url, user_id=user_id)\n",
    "video_obj"
   ]
  },
  {
   "cell_type": "code",
   "execution_count": 13,
   "id": "fb552944-2f98-4031-b6c7-ca0907075730",
   "metadata": {},
   "outputs": [
    {
     "name": "stdout",
     "output_type": "stream",
     "text": [
      "Video oIx7ObcfdlU added by 48b7c880-8ca2-11f0-9d80-b48c9d37d01e\n",
      "Video CnXdddeZ4tQ added by 48b7c880-8ca2-11f0-9d80-b48c9d37d01e\n"
     ]
    }
   ],
   "source": [
    "for obj in Video.objects.all():\n",
    "    print(f\"Video {obj.host_id} added by {obj.user_id}\")"
   ]
  },
  {
   "cell_type": "code",
   "execution_count": null,
   "id": "c4f160ab-3654-4795-bea5-f7675af43193",
   "metadata": {},
   "outputs": [],
   "source": []
  }
 ],
 "metadata": {
  "kernelspec": {
   "display_name": "Python 3 (ipykernel)",
   "language": "python",
   "name": "python3"
  },
  "language_info": {
   "codemirror_mode": {
    "name": "ipython",
    "version": 3
   },
   "file_extension": ".py",
   "mimetype": "text/x-python",
   "name": "python",
   "nbconvert_exporter": "python",
   "pygments_lexer": "ipython3",
   "version": "3.8.10"
  }
 },
 "nbformat": 4,
 "nbformat_minor": 5
}
