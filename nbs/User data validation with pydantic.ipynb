{
 "cells": [
  {
   "cell_type": "code",
   "execution_count": 1,
   "id": "f4315b3b-39a3-45db-b7a2-88ac42844684",
   "metadata": {},
   "outputs": [
    {
     "name": "stdout",
     "output_type": "stream",
     "text": [
      "C:\\MY FILES\\CFE_VIDEO_MEMBERSHIP_WEB_APP\n"
     ]
    }
   ],
   "source": [
    "%cd .."
   ]
  },
  {
   "cell_type": "code",
   "execution_count": 2,
   "id": "adf9f87d-804c-427f-a2a1-bf1c52ef71d0",
   "metadata": {},
   "outputs": [],
   "source": [
    "from app import db\n",
    "from app.users.models import User\n",
    "from cassandra.cqlengine.management import sync_table\n",
    "from pydantic import BaseModel, EmailStr, SecretStr, field_validator"
   ]
  },
  {
   "cell_type": "code",
   "execution_count": 3,
   "id": "07755108-bb5a-4b4f-8202-8fc4b349e4c9",
   "metadata": {},
   "outputs": [],
   "source": [
    "db.get_session()\n",
    "sync_table(User)"
   ]
  },
  {
   "cell_type": "code",
   "execution_count": 4,
   "id": "bd32935e-af9a-42f4-b3ef-9ed289a2cebd",
   "metadata": {},
   "outputs": [],
   "source": [
    "user_data = {\n",
    "    \"email\": \"abc@abc.com\",\n",
    "    \"password\": \"abc123\"\n",
    "}"
   ]
  },
  {
   "cell_type": "code",
   "execution_count": 5,
   "id": "9fab83fd-88a0-4f66-9b45-2e028a388eb4",
   "metadata": {},
   "outputs": [],
   "source": [
    "class UserLoginSchema(BaseModel):\n",
    "    email: EmailStr\n",
    "    password: SecretStr"
   ]
  },
  {
   "cell_type": "code",
   "execution_count": 6,
   "id": "5277ff2f-1d3b-4eaf-a8f0-7d3c7106e26f",
   "metadata": {},
   "outputs": [
    {
     "data": {
      "text/plain": [
       "UserLoginSchema(email='abc@abc.com', password=SecretStr('**********'))"
      ]
     },
     "execution_count": 6,
     "metadata": {},
     "output_type": "execute_result"
    }
   ],
   "source": [
    "UserLoginSchema(**user_data)"
   ]
  },
  {
   "cell_type": "code",
   "execution_count": 13,
   "id": "a4a2f1b8-b126-4f8a-b2a2-5cbd77dce79a",
   "metadata": {},
   "outputs": [],
   "source": [
    "class UserSignupSchema(BaseModel):\n",
    "    email: EmailStr\n",
    "    password: SecretStr\n",
    "    password_confirm: SecretStr\n",
    "\n",
    "    @field_validator(\"password_confirm\")\n",
    "    def passwords_match(cls, v, values, **kwargs):\n",
    "        password = values.data[\"password\"]\n",
    "        password_confirm = v\n",
    "        if password != password_confirm:\n",
    "            raise ValueError(\"Password doesn't match!\")\n",
    "        return v\n",
    "\n",
    "    @field_validator(\"email\")\n",
    "    def email_available(cls, v, values, **kwargs):\n",
    "        q = User.objects().filter(email=v).allow_filtering()\n",
    "        if q.count() != 0:\n",
    "            raise ValueError(\"Email is not available.\")\n",
    "        return v"
   ]
  },
  {
   "cell_type": "code",
   "execution_count": 17,
   "id": "9dd60203-d31a-42bb-8f4a-c8e9ab7d38b5",
   "metadata": {},
   "outputs": [
    {
     "data": {
      "text/plain": [
       "UserSignupSchema(email='md.sadat.amin2@gmail.com', password=SecretStr('**********'), password_confirm=SecretStr('**********'))"
      ]
     },
     "execution_count": 17,
     "metadata": {},
     "output_type": "execute_result"
    }
   ],
   "source": [
    "UserSignupSchema(email=\"md.sadat.amin2@gmail.com\", password=\"abc123\", password_confirm=\"abc123\")"
   ]
  },
  {
   "cell_type": "code",
   "execution_count": null,
   "id": "e68d59ab-24c3-4a09-8602-464a453a2571",
   "metadata": {},
   "outputs": [],
   "source": []
  }
 ],
 "metadata": {
  "kernelspec": {
   "display_name": "Python 3 (ipykernel)",
   "language": "python",
   "name": "python3"
  },
  "language_info": {
   "codemirror_mode": {
    "name": "ipython",
    "version": 3
   },
   "file_extension": ".py",
   "mimetype": "text/x-python",
   "name": "python",
   "nbconvert_exporter": "python",
   "pygments_lexer": "ipython3",
   "version": "3.8.10"
  }
 },
 "nbformat": 4,
 "nbformat_minor": 5
}
